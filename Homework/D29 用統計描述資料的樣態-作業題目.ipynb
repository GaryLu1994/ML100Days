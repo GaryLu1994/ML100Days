{
 "cells": [
  {
   "cell_type": "markdown",
   "metadata": {
    "id": "H-z4L8J371GO"
   },
   "source": [
    "## 作業:\n",
    "今天學到不同統計量之間特性，  \n",
    "試著分析男生女生身高資料，  \n",
    "試著回答下面的問題:  \n",
    "Q1:試著用今天所教的內容，如何描述這兩組資料的樣態?    \n",
    "Q2: 請問男生和女生在平均身高上誰比較高?   \n",
    "Q3:請問第二題的答案和日常生活中觀察的一致嗎? 如果不一致，你覺得原因可能為何?    \n",
    "上述問題透過  python 語法進行運算，\n",
    "並將上述答案填寫在 (google 表單)[https://docs.google.com/forms/d/e/1FAIpQLSdDzwpeJl8YLPwZaW8pBZvtuXY9kIbbZLqxcXyzFaoraV5JEA/viewform ]\n",
    "![](作業資料圖檔.PNG)"
   ]
  },
  {
   "cell_type": "code",
   "execution_count": 1,
   "metadata": {
    "id": "yz28_IgkYdBW"
   },
   "outputs": [],
   "source": [
    "# library\n",
    "import matplotlib.pyplot as plt\n",
    "import numpy as np\n",
    "import pandas as pd\n",
    "from scipy import stats\n",
    "import math\n",
    "import statistics\n",
    "import seaborn as sns"
   ]
  },
  {
   "cell_type": "code",
   "execution_count": 2,
   "metadata": {
    "id": "3NtzuWtt71GU",
    "outputId": "be21c4eb-a6c2-4674-aadd-d378bafc0428"
   },
   "outputs": [],
   "source": [
    "## 輸入資料\n",
    "boys=[164, 176, 169, 169, 165, 175, 159, 151, 144, 160, 183, 165, 156, 170, 164, 173, 165, 163, 177, 171]\n",
    "girls=[169, 183, 170, 168, 182, 170, 173, 185, 151, 156, 162, 169, 162, 181, 159, 154, 167, 175, 170, 160]"
   ]
  },
  {
   "cell_type": "code",
   "execution_count": 5,
   "metadata": {
    "id": "uDM9AzrY71GW",
    "outputId": "f4e7ede3-fda9-4858-f122-af7c3b3f3ad4"
   },
   "outputs": [
    {
     "name": "stdout",
     "output_type": "stream",
     "text": [
      "男孩身高平均= 165.95\n",
      "男孩身高中位數= 165.0\n",
      "男孩身高眾數= 165\n",
      "男孩身高全距= 39\n",
      "男孩身高變異數= 84.89210526315789\n",
      "男孩身高標準差= 9.213691185575838\n",
      "男孩身高分佈的偏度= -0.47132127317376954\n",
      "男孩身高分佈的峰值= 0.19395882957876331\n",
      "女孩身高平均= 168.3\n",
      "女孩身高中位數= 169.0\n",
      "女孩身高眾數= 170\n",
      "女孩身高全距= 34\n",
      "女孩身高變異數= 95.37894736842105\n",
      "女孩身高標準差= 9.766214587465353\n",
      "女孩身高分佈的偏度= 0.05985321129365068\n",
      "女孩身高分佈的峰值= -0.8203607083948947\n"
     ]
    }
   ],
   "source": [
    "#Q1:試著用今天所教的內容，如何描述這兩組資料的樣態?\n",
    "#暗示:  分別計算男生和女生的統計量\n",
    "\n",
    "mean_boy=np.mean(boys)\n",
    "print(\"男孩身高平均=\",mean_boy)\n",
    "\n",
    "np_median_boy=np.median(boys,axis=None)\n",
    "print(\"男孩身高中位數=\",np_median_boy)\n",
    "\n",
    "mode_boy=stats.mode(boys,axis=None)\n",
    "print(\"男孩身高眾數=\",mode_boy[0][0])\n",
    "\n",
    "def rangeV(x): \n",
    "  return(max(x)-min(x))\n",
    "print(\"男孩身高全距=\", rangeV(boys))\n",
    "\n",
    "print(\"男孩身高變異數=\",statistics.variance(boys))\n",
    "\n",
    "std_boy=np.std(boys,ddof=1)\n",
    "print(\"男孩身高標準差=\",std_boy)\n",
    "\n",
    "print(\"男孩身高分佈的偏度=\", stats.skew(boys))\n",
    "print(\"男孩身高分佈的峰值=\", stats.kurtosis(boys))\n",
    "\n",
    "mean_girl=np.mean(girls)\n",
    "print(\"女孩身高平均=\",mean_girl)\n",
    "\n",
    "np_median_girl=np.median(girls,axis=None)\n",
    "print(\"女孩身高中位數=\",np_median_girl)\n",
    "\n",
    "mode_girl=stats.mode(girls,axis=None)\n",
    "print(\"女孩身高眾數=\",mode_girl[0][0])\n",
    "\n",
    "print(\"女孩身高全距=\", rangeV(girls))\n",
    "\n",
    "print(\"女孩身高變異數=\",statistics.variance(girls))\n",
    "\n",
    "std_girl=np.std(girls,ddof=1)\n",
    "print(\"女孩身高標準差=\",std_girl)\n",
    "\n",
    "print(\"女孩身高分佈的偏度=\", stats.skew(girls))\n",
    "print(\"女孩身高分佈的峰值=\", stats.kurtosis(girls))"
   ]
  },
  {
   "cell_type": "code",
   "execution_count": 6,
   "metadata": {
    "id": "xH_GNsC271GW",
    "outputId": "f4b4c46a-0d8b-421c-9c70-0ebf2aab0e31"
   },
   "outputs": [
    {
     "name": "stdout",
     "output_type": "stream",
     "text": [
      "男孩身高平均= 165.95\n",
      "女孩身高平均= 168.3\n",
      "女孩身高平均較高\n"
     ]
    }
   ],
   "source": [
    "#Q2: 請問男生和女生在平均身高上誰比較高? \n",
    "\n",
    "print(\"男孩身高平均=\",np.mean(boys))\n",
    "print(\"女孩身高平均=\",np.mean(girls))\n",
    "\n",
    "if (np.mean(boys)>np.mean(girls)):\n",
    "    print(\"男孩身高平均較高\")\n",
    "else:\n",
    "    print(\"女孩身高平均較高\")"
   ]
  },
  {
   "cell_type": "code",
   "execution_count": 7,
   "metadata": {
    "id": "xAzZU0Dv71GX",
    "outputId": "e2017c09-70fc-41ab-99c0-9d41fe21629d"
   },
   "outputs": [
    {
     "name": "stdout",
     "output_type": "stream",
     "text": [
      "第二題答案與日常生活中觀察不一致，可能與抽樣的因素，導致抽出的樣本無法代表母體\n"
     ]
    }
   ],
   "source": [
    "#Q3:請問第二題的答案和日常生活中觀察的一致嗎? 如果不一致，你覺得原因可能為何? \n",
    "\n",
    "print(\"第二題答案與日常生活中觀察不一致，可能與抽樣的因素，導致抽出的樣本無法代表母體\")"
   ]
  },
  {
   "cell_type": "code",
   "execution_count": null,
   "metadata": {},
   "outputs": [],
   "source": []
  }
 ],
 "metadata": {
  "colab": {
   "collapsed_sections": [],
   "name": "作業.ipynb",
   "provenance": []
  },
  "kernelspec": {
   "display_name": "Python 3",
   "language": "python",
   "name": "python3"
  },
  "language_info": {
   "codemirror_mode": {
    "name": "ipython",
    "version": 3
   },
   "file_extension": ".py",
   "mimetype": "text/x-python",
   "name": "python",
   "nbconvert_exporter": "python",
   "pygments_lexer": "ipython3",
   "version": "3.8.5"
  }
 },
 "nbformat": 4,
 "nbformat_minor": 1
}
