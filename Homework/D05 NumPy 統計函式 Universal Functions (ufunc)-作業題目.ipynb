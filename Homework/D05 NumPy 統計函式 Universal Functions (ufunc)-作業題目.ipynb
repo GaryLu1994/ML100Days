{
 "cells": [
  {
   "cell_type": "markdown",
   "metadata": {
    "id": "oef8c2jr-PZY"
   },
   "source": [
    "作業目標<br>\n",
    "計算有缺失值的資料，統計量實作<br>\n",
    "作業重點<br>\n",
    "當遇到缺失值有函式可以處理，不須額外寫程式刪除<br>\n",
    "計算統計量時不能出現缺失值"
   ]
  },
  {
   "cell_type": "markdown",
   "metadata": {
    "id": "4YgL8NF4-Ru3"
   },
   "source": [
    "題目:<br>\n",
    "english_score = np.array([55,89,76,65,48,70])<br>\n",
    "math_score = np.array([60,85,60,68,np.nan,60])<br>\n",
    "chinese_score = np.array([65,90,82,72,66,77])<br>\n",
    "上3列共六位同學的英文、數學、國文成績，第一個元素代表第一位同學，舉例第一位同學英文55分、數學60分、國文65分，今天第五位同學因某原因沒來考試，導致數學成績缺值，運用上列數據回答下列問題。<br>\n",
    "1. 請計算各科成績平均、最大值、最小值、標準差，其中數學缺一筆資料可忽略?\n",
    "2. 第五位同學補考數學後成績為55，請計算補考後數學成績平均、最大值、最小值、標準差?\n",
    "3. 用補考後資料找出與國文成績相關係數最高的學科?"
   ]
  },
  {
   "cell_type": "code",
   "execution_count": 13,
   "metadata": {
    "executionInfo": {
     "elapsed": 617,
     "status": "ok",
     "timestamp": 1609854566856,
     "user": {
      "displayName": "献竤黃",
      "photoUrl": "",
      "userId": "07529243043474362942"
     },
     "user_tz": -480
    },
    "id": "QwsKU8qO-RK7"
   },
   "outputs": [],
   "source": [
    "import numpy as np"
   ]
  },
  {
   "cell_type": "code",
   "execution_count": 14,
   "metadata": {
    "executionInfo": {
     "elapsed": 1016,
     "status": "ok",
     "timestamp": 1609854567261,
     "user": {
      "displayName": "献竤黃",
      "photoUrl": "",
      "userId": "07529243043474362942"
     },
     "user_tz": -480
    },
    "id": "B5BqDQAe_czh"
   },
   "outputs": [],
   "source": [
    "english_score = np.array([55,89,76,65,48,70])\n",
    "math_score = np.array([60,85,60,68,np.nan,60])\n",
    "chinese_score = np.array([65,90,82,72,66,77])"
   ]
  },
  {
   "cell_type": "code",
   "execution_count": 37,
   "metadata": {
    "executionInfo": {
     "elapsed": 1005,
     "status": "ok",
     "timestamp": 1609854567262,
     "user": {
      "displayName": "献竤黃",
      "photoUrl": "",
      "userId": "07529243043474362942"
     },
     "user_tz": -480
    },
    "id": "K3tUA6u9aI3N"
   },
   "outputs": [
    {
     "name": "stdout",
     "output_type": "stream",
     "text": [
      "英文成績的統計：\n",
      "平均：67.17\n",
      "最高分：89\n",
      "最低分：48\n",
      "標準差：13.43\n",
      "數學成績的統計：\n",
      "平均：66.6\n",
      "最高分：85.0\n",
      "最低分：60.0\n",
      "標準差：9.71\n",
      "國文成績的統計：\n",
      "平均：75.33\n",
      "最高分：90\n",
      "最低分：65\n",
      "標準差：8.83\n"
     ]
    }
   ],
   "source": [
    "#1. 請計算各科成績平均、最大值、最小值、標準差，其中數學缺一筆資料可忽略?\n",
    "\n",
    "print(f'英文成績的統計：\\n平均：{round(np.nanmean(english_score),2)}\\n最高分：{np.nanmax(english_score)}\\n最低分：{np.nanmin(english_score)}\\n標準差：{round(np.nanstd(english_score),2)}')\n",
    "\n",
    "print(f'數學成績的統計：\\n平均：{round(np.nanmean(math_score),2)}\\n最高分：{np.nanmax(math_score)}\\n最低分：{np.nanmin(math_score)}\\n標準差：{round(np.nanstd(math_score),2)}')\n",
    "\n",
    "print(f'國文成績的統計：\\n平均：{round(np.nanmean(chinese_score),2)}\\n最高分：{np.nanmax(chinese_score)}\\n最低分：{np.nanmin(chinese_score)}\\n標準差：{round(np.nanstd(chinese_score),2)}')"
   ]
  },
  {
   "cell_type": "code",
   "execution_count": 38,
   "metadata": {
    "executionInfo": {
     "elapsed": 996,
     "status": "ok",
     "timestamp": 1609854567262,
     "user": {
      "displayName": "献竤黃",
      "photoUrl": "",
      "userId": "07529243043474362942"
     },
     "user_tz": -480
    },
    "id": "mXjDzvSrbLlf"
   },
   "outputs": [
    {
     "name": "stdout",
     "output_type": "stream",
     "text": [
      "數學成績的統計：\n",
      "平均：64.67\n",
      "最高分：85.0\n",
      "最低分：55.0\n",
      "標準差：9.86\n"
     ]
    }
   ],
   "source": [
    "#2. 第五位同學補考數學後成績為55，請計算補考後數學成績平均、最大值、最小值、標準差?\n",
    "math_score[4] = 55\n",
    "\n",
    "print(f'數學成績的統計：\\n平均：{round(np.nanmean(math_score),2)}\\n最高分：{np.nanmax(math_score)}\\n最低分：{np.nanmin(math_score)}\\n標準差：{round(np.nanstd(math_score),2)}')"
   ]
  },
  {
   "cell_type": "code",
   "execution_count": 48,
   "metadata": {
    "executionInfo": {
     "elapsed": 989,
     "status": "ok",
     "timestamp": 1609854567264,
     "user": {
      "displayName": "献竤黃",
      "photoUrl": "",
      "userId": "07529243043474362942"
     },
     "user_tz": -480
    },
    "id": "SaGolKx0cKoU"
   },
   "outputs": [
    {
     "name": "stdout",
     "output_type": "stream",
     "text": [
      "與國文成績相關係數較高的學科為英文，相關係數為：0.9779282830211268\n"
     ]
    }
   ],
   "source": [
    "#3. 用補考後資料找出與國文成績相關係數最高的學科?\n",
    "\n",
    "chinese_math_relation = np.corrcoef(chinese_score, math_score)\n",
    "# print(chinese_math_relation)\n",
    "\n",
    "chinese_english_relation = np.corrcoef(chinese_score, english_score)\n",
    "# print(chinese_english_relation)\n",
    "\n",
    "if np.min(chinese_math_relation) > np.min(chinese_english_relation):\n",
    "    print(f'與國文成績相關係數較高的學科為數學，相關係數為：{np.min(chinese_math_relation)}')\n",
    "else:\n",
    "    print(f'與國文成績相關係數較高的學科為英文，相關係數為：{np.min(chinese_english_relation)}')"
   ]
  },
  {
   "cell_type": "code",
   "execution_count": null,
   "metadata": {},
   "outputs": [],
   "source": []
  }
 ],
 "metadata": {
  "colab": {
   "authorship_tag": "ABX9TyPtywwDR7TsGGEOMGYLDT5h",
   "collapsed_sections": [],
   "name": "作業Hong題目.ipynb",
   "provenance": []
  },
  "kernelspec": {
   "display_name": "Python 3",
   "language": "python",
   "name": "python3"
  },
  "language_info": {
   "codemirror_mode": {
    "name": "ipython",
    "version": 3
   },
   "file_extension": ".py",
   "mimetype": "text/x-python",
   "name": "python",
   "nbconvert_exporter": "python",
   "pygments_lexer": "ipython3",
   "version": "3.8.5"
  }
 },
 "nbformat": 4,
 "nbformat_minor": 1
}
