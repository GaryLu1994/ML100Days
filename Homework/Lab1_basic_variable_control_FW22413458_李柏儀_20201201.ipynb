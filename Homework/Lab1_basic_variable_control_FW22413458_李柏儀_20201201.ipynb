{
 "cells": [
  {
   "cell_type": "markdown",
   "metadata": {
    "slideshow": {
     "slide_type": "slide"
    }
   },
   "source": [
    "# 基礎程式設計 LAB 1\n",
    "\n",
    ">認識你的電腦、檔案結構 (板書講解操作)<br>\n",
    ">JupyterLab, Colab 基本使用技巧<br>\n",
    ">基本運算<br>\n",
    ">資料型態<br>\n",
    ">控制流程"
   ]
  },
  {
   "cell_type": "markdown",
   "metadata": {},
   "source": [
    "Name:李柏儀\n",
    "\n",
    "Student ID:FW22413458"
   ]
  },
  {
   "cell_type": "markdown",
   "metadata": {},
   "source": [
    "most sentences are refer to Wikiquote [刺激1995](https://zh.m.wikiquote.org/zh-tw/%E5%88%BA%E6%BF%801995)\n",
    "\n",
    "| | |\n",
    "|---|---|\n",
    "|![img](https://upload.wikimedia.org/wikipedia/commons/thumb/7/73/Nikolaj_Alexandrowitsch_Jaroschenko_002.jpg/244px-Nikolaj_Alexandrowitsch_Jaroschenko_002.jpg)|希望是美好的，也許是人間至善，而美好的事物永不消逝。Remember, Red, hope is a good thing, maybe the best of things. And no good thing ever dies.|\n",
    "\n",
    "IMDB [The Shawshank Redemption 刺激1995](https://www.imdb.com/title/tt0111161/)"
   ]
  },
  {
   "cell_type": "markdown",
   "metadata": {
    "slideshow": {
     "slide_type": "slide"
    }
   },
   "source": [
    "## 第一個要學會的是......和世界打招呼\n",
    " - print()"
   ]
  },
  {
   "cell_type": "code",
   "execution_count": null,
   "metadata": {},
   "outputs": [],
   "source": [
    "print('hello world')"
   ]
  },
  {
   "cell_type": "markdown",
   "metadata": {},
   "source": [
    "#### >>> 回家練習: <<< \n",
    "寫一行程式印出你的名字"
   ]
  },
  {
   "cell_type": "code",
   "execution_count": 1,
   "metadata": {},
   "outputs": [
    {
     "name": "stdout",
     "output_type": "stream",
     "text": [
      "李柏儀\n"
     ]
    }
   ],
   "source": [
    "#your code\n",
    "\n",
    "print('李柏儀')"
   ]
  },
  {
   "cell_type": "markdown",
   "metadata": {
    "slideshow": {
     "slide_type": "slide"
    }
   },
   "source": [
    "## 第二個要學會的是......如何使用 Python 計算機\n",
    "`2 + 1`中`2`跟 `1` 稱為`運算元`，`+` 稱為`運算子`\n",
    ">指派運算子 (Assignment operator)<br>\n",
    ">算術運算子 (Arithmetric operators)<br>\n",
    ">更新運算子 (Updating operators)<br>\n",
    ">比較運算子 (Comparison operators)<br>\n",
    ">邏輯運算子 (Logical operators)"
   ]
  },
  {
   "cell_type": "markdown",
   "metadata": {
    "slideshow": {
     "slide_type": "subslide"
    }
   },
   "source": [
    "### 指派運算子\n",
    "a = 1\n",
    ">指派 (Assignment)<br>\n",
    ">變數 (Variables)"
   ]
  },
  {
   "cell_type": "code",
   "execution_count": null,
   "metadata": {},
   "outputs": [],
   "source": [
    "a = 1\n",
    "a"
   ]
  },
  {
   "cell_type": "markdown",
   "metadata": {
    "slideshow": {
     "slide_type": "subslide"
    }
   },
   "source": [
    "#### 指派\n",
    " - 右邊運算完的結果丟給左邊\n",
    " - 跟一般數學的等號意義是不一樣的，誤用會出現 `invalid syntax` 錯誤...你的等於不是你的等於"
   ]
  },
  {
   "cell_type": "code",
   "execution_count": 4,
   "metadata": {},
   "outputs": [
    {
     "data": {
      "text/plain": [
       "2"
      ]
     },
     "execution_count": 4,
     "metadata": {},
     "output_type": "execute_result"
    }
   ],
   "source": [
    "a = 1 + 1\n",
    "a"
   ]
  },
  {
   "cell_type": "code",
   "execution_count": 5,
   "metadata": {},
   "outputs": [
    {
     "data": {
      "text/plain": [
       "2"
      ]
     },
     "execution_count": 5,
     "metadata": {},
     "output_type": "execute_result"
    }
   ],
   "source": [
    "a = 1\n",
    "a = a + 1\n",
    "a"
   ]
  },
  {
   "cell_type": "code",
   "execution_count": 6,
   "metadata": {},
   "outputs": [
    {
     "ename": "SyntaxError",
     "evalue": "cannot assign to literal (<ipython-input-6-ecdac3dcabfd>, line 1)",
     "output_type": "error",
     "traceback": [
      "\u001b[0;36m  File \u001b[0;32m\"<ipython-input-6-ecdac3dcabfd>\"\u001b[0;36m, line \u001b[0;32m1\u001b[0m\n\u001b[0;31m    1 = 1\u001b[0m\n\u001b[0m    ^\u001b[0m\n\u001b[0;31mSyntaxError\u001b[0m\u001b[0;31m:\u001b[0m cannot assign to literal\n"
     ]
    }
   ],
   "source": [
    "1 = 1"
   ]
  },
  {
   "cell_type": "markdown",
   "metadata": {},
   "source": [
    "#### >>> 回家練習 <<<\n",
    "指派你的學號（整數部分）給變數 student_id，並印出。"
   ]
  },
  {
   "cell_type": "code",
   "execution_count": 2,
   "metadata": {},
   "outputs": [
    {
     "name": "stdout",
     "output_type": "stream",
     "text": [
      "22413458\n"
     ]
    }
   ],
   "source": [
    "#your code\n",
    "\n",
    "student_id = 22413458\n",
    "\n",
    "print(student_id)"
   ]
  },
  {
   "cell_type": "markdown",
   "metadata": {},
   "source": [
    "#### >>> 回家練習 <<<\n",
    "指派你的姓名給變數 student_name，並印出。"
   ]
  },
  {
   "cell_type": "code",
   "execution_count": 3,
   "metadata": {},
   "outputs": [
    {
     "name": "stdout",
     "output_type": "stream",
     "text": [
      "李柏儀\n"
     ]
    }
   ],
   "source": [
    "#your code\n",
    "\n",
    "student_name = '李柏儀'\n",
    "\n",
    "print(student_name)"
   ]
  },
  {
   "cell_type": "markdown",
   "metadata": {
    "slideshow": {
     "slide_type": "subslide"
    }
   },
   "source": [
    "#### 變數\n",
    " - 會在記憶體中佔住一個區塊\n",
    " - 變數命名限制：開頭不能是數字、開頭不能是運算子、不可與保留字同名"
   ]
  },
  {
   "cell_type": "code",
   "execution_count": 7,
   "metadata": {},
   "outputs": [
    {
     "ename": "SyntaxError",
     "evalue": "invalid syntax (<ipython-input-7-cc67e5ecf289>, line 1)",
     "output_type": "error",
     "traceback": [
      "\u001b[0;36m  File \u001b[0;32m\"<ipython-input-7-cc67e5ecf289>\"\u001b[0;36m, line \u001b[0;32m1\u001b[0m\n\u001b[0;31m    1a = 1\u001b[0m\n\u001b[0m     ^\u001b[0m\n\u001b[0;31mSyntaxError\u001b[0m\u001b[0;31m:\u001b[0m invalid syntax\n"
     ]
    }
   ],
   "source": [
    "1a = 1"
   ]
  },
  {
   "cell_type": "code",
   "execution_count": 8,
   "metadata": {},
   "outputs": [
    {
     "ename": "SyntaxError",
     "evalue": "cannot assign to operator (<ipython-input-8-a56305d89f9e>, line 1)",
     "output_type": "error",
     "traceback": [
      "\u001b[0;36m  File \u001b[0;32m\"<ipython-input-8-a56305d89f9e>\"\u001b[0;36m, line \u001b[0;32m1\u001b[0m\n\u001b[0;31m    +a = 1\u001b[0m\n\u001b[0m    ^\u001b[0m\n\u001b[0;31mSyntaxError\u001b[0m\u001b[0;31m:\u001b[0m cannot assign to operator\n"
     ]
    }
   ],
   "source": [
    "+a = 1"
   ]
  },
  {
   "cell_type": "code",
   "execution_count": 9,
   "metadata": {},
   "outputs": [
    {
     "ename": "SyntaxError",
     "evalue": "invalid syntax (<ipython-input-9-b26be1b49601>, line 1)",
     "output_type": "error",
     "traceback": [
      "\u001b[0;36m  File \u001b[0;32m\"<ipython-input-9-b26be1b49601>\"\u001b[0;36m, line \u001b[0;32m1\u001b[0m\n\u001b[0;31m    for = 1\u001b[0m\n\u001b[0m        ^\u001b[0m\n\u001b[0;31mSyntaxError\u001b[0m\u001b[0;31m:\u001b[0m invalid syntax\n"
     ]
    }
   ],
   "source": [
    "for = 1"
   ]
  },
  {
   "cell_type": "markdown",
   "metadata": {
    "slideshow": {
     "slide_type": "subslide"
    }
   },
   "source": [
    "### 算術運算子\n",
    "1 + 1<br>\n",
    "\n",
    "`+`、`-`、`*`、`/`、`**`、`//`、`%`"
   ]
  },
  {
   "cell_type": "code",
   "execution_count": 10,
   "metadata": {},
   "outputs": [
    {
     "data": {
      "text/plain": [
       "2"
      ]
     },
     "execution_count": 10,
     "metadata": {},
     "output_type": "execute_result"
    }
   ],
   "source": [
    "1 + 1"
   ]
  },
  {
   "cell_type": "code",
   "execution_count": 11,
   "metadata": {},
   "outputs": [
    {
     "data": {
      "text/plain": [
       "1"
      ]
     },
     "execution_count": 11,
     "metadata": {},
     "output_type": "execute_result"
    }
   ],
   "source": [
    "2 - 1"
   ]
  },
  {
   "cell_type": "code",
   "execution_count": 12,
   "metadata": {},
   "outputs": [
    {
     "data": {
      "text/plain": [
       "4"
      ]
     },
     "execution_count": 12,
     "metadata": {},
     "output_type": "execute_result"
    }
   ],
   "source": [
    "2 * 2"
   ]
  },
  {
   "cell_type": "code",
   "execution_count": 13,
   "metadata": {},
   "outputs": [
    {
     "data": {
      "text/plain": [
       "1.5"
      ]
     },
     "execution_count": 13,
     "metadata": {},
     "output_type": "execute_result"
    }
   ],
   "source": [
    "6 / 4"
   ]
  },
  {
   "cell_type": "code",
   "execution_count": 14,
   "metadata": {},
   "outputs": [
    {
     "data": {
      "text/plain": [
       "9"
      ]
     },
     "execution_count": 14,
     "metadata": {},
     "output_type": "execute_result"
    }
   ],
   "source": [
    "3 ** 2"
   ]
  },
  {
   "cell_type": "code",
   "execution_count": 15,
   "metadata": {},
   "outputs": [
    {
     "data": {
      "text/plain": [
       "1"
      ]
     },
     "execution_count": 15,
     "metadata": {},
     "output_type": "execute_result"
    }
   ],
   "source": [
    "6 // 4"
   ]
  },
  {
   "cell_type": "code",
   "execution_count": 16,
   "metadata": {},
   "outputs": [
    {
     "data": {
      "text/plain": [
       "2"
      ]
     },
     "execution_count": 16,
     "metadata": {},
     "output_type": "execute_result"
    }
   ],
   "source": [
    "6 % 4"
   ]
  },
  {
   "cell_type": "markdown",
   "metadata": {
    "slideshow": {
     "slide_type": "subslide"
    }
   },
   "source": [
    "### 更新運算子\n",
    "`a += 1` => `a = a + 1` (指派跟算術結合)\n",
    "\n",
    "包括 `+=`、`-=`、`*=`、`/=`、`**=`、`//=`、`%=`"
   ]
  },
  {
   "cell_type": "code",
   "execution_count": 17,
   "metadata": {},
   "outputs": [
    {
     "data": {
      "text/plain": [
       "2"
      ]
     },
     "execution_count": 17,
     "metadata": {},
     "output_type": "execute_result"
    }
   ],
   "source": [
    "a = 1\n",
    "a = a + 1\n",
    "a"
   ]
  },
  {
   "cell_type": "code",
   "execution_count": 18,
   "metadata": {},
   "outputs": [
    {
     "data": {
      "text/plain": [
       "2"
      ]
     },
     "execution_count": 18,
     "metadata": {},
     "output_type": "execute_result"
    }
   ],
   "source": [
    "a = 1\n",
    "a += 1\n",
    "a"
   ]
  },
  {
   "cell_type": "markdown",
   "metadata": {
    "slideshow": {
     "slide_type": "subslide"
    }
   },
   "source": [
    "### 比較運算子\n",
    "3 > 1\n",
    "\n",
    "包括 `==`、`!=`、`>`、`<`、`>=`、`<=`\n",
    "\n",
    "比較結果為 `True` 或 `False`"
   ]
  },
  {
   "cell_type": "code",
   "execution_count": 19,
   "metadata": {},
   "outputs": [
    {
     "data": {
      "text/plain": [
       "True"
      ]
     },
     "execution_count": 19,
     "metadata": {},
     "output_type": "execute_result"
    }
   ],
   "source": [
    "1 == 1"
   ]
  },
  {
   "cell_type": "code",
   "execution_count": 20,
   "metadata": {},
   "outputs": [
    {
     "data": {
      "text/plain": [
       "False"
      ]
     },
     "execution_count": 20,
     "metadata": {},
     "output_type": "execute_result"
    }
   ],
   "source": [
    "1 != 1"
   ]
  },
  {
   "cell_type": "code",
   "execution_count": 21,
   "metadata": {},
   "outputs": [
    {
     "data": {
      "text/plain": [
       "False"
      ]
     },
     "execution_count": 21,
     "metadata": {},
     "output_type": "execute_result"
    }
   ],
   "source": [
    "1 > 1"
   ]
  },
  {
   "cell_type": "code",
   "execution_count": 22,
   "metadata": {},
   "outputs": [
    {
     "data": {
      "text/plain": [
       "False"
      ]
     },
     "execution_count": 22,
     "metadata": {},
     "output_type": "execute_result"
    }
   ],
   "source": [
    "1 < 1"
   ]
  },
  {
   "cell_type": "code",
   "execution_count": 23,
   "metadata": {},
   "outputs": [
    {
     "data": {
      "text/plain": [
       "True"
      ]
     },
     "execution_count": 23,
     "metadata": {},
     "output_type": "execute_result"
    }
   ],
   "source": [
    "1 >= 1"
   ]
  },
  {
   "cell_type": "code",
   "execution_count": 24,
   "metadata": {},
   "outputs": [
    {
     "data": {
      "text/plain": [
       "True"
      ]
     },
     "execution_count": 24,
     "metadata": {},
     "output_type": "execute_result"
    }
   ],
   "source": [
    "1 <= 1"
   ]
  },
  {
   "cell_type": "markdown",
   "metadata": {
    "slideshow": {
     "slide_type": "subslide"
    }
   },
   "source": [
    "### 邏輯運算子\n",
    "True and False\n",
    "\n",
    " - 且：`and`、`&` (其中一個為 False 即為 False)\n",
    " - 或：`or`、`|`  (其中一個為 True  即為 True )\n",
    " - 非：`not` (無法使用\"!\")"
   ]
  },
  {
   "cell_type": "code",
   "execution_count": 25,
   "metadata": {},
   "outputs": [
    {
     "data": {
      "text/plain": [
       "True"
      ]
     },
     "execution_count": 25,
     "metadata": {},
     "output_type": "execute_result"
    }
   ],
   "source": [
    "True and True"
   ]
  },
  {
   "cell_type": "code",
   "execution_count": 26,
   "metadata": {},
   "outputs": [
    {
     "data": {
      "text/plain": [
       "False"
      ]
     },
     "execution_count": 26,
     "metadata": {},
     "output_type": "execute_result"
    }
   ],
   "source": [
    "True & False"
   ]
  },
  {
   "cell_type": "code",
   "execution_count": 27,
   "metadata": {},
   "outputs": [
    {
     "data": {
      "text/plain": [
       "True"
      ]
     },
     "execution_count": 27,
     "metadata": {},
     "output_type": "execute_result"
    }
   ],
   "source": [
    "True or False"
   ]
  },
  {
   "cell_type": "code",
   "execution_count": 28,
   "metadata": {},
   "outputs": [
    {
     "data": {
      "text/plain": [
       "True"
      ]
     },
     "execution_count": 28,
     "metadata": {},
     "output_type": "execute_result"
    }
   ],
   "source": [
    "True | True"
   ]
  },
  {
   "cell_type": "code",
   "execution_count": 29,
   "metadata": {},
   "outputs": [
    {
     "data": {
      "text/plain": [
       "False"
      ]
     },
     "execution_count": 29,
     "metadata": {},
     "output_type": "execute_result"
    }
   ],
   "source": [
    "not True"
   ]
  },
  {
   "cell_type": "code",
   "execution_count": 30,
   "metadata": {},
   "outputs": [
    {
     "data": {
      "text/plain": [
       "True"
      ]
     },
     "execution_count": 30,
     "metadata": {},
     "output_type": "execute_result"
    }
   ],
   "source": [
    "(1 == 1) and (2 != 1)"
   ]
  },
  {
   "cell_type": "code",
   "execution_count": 31,
   "metadata": {},
   "outputs": [
    {
     "data": {
      "text/plain": [
       "True"
      ]
     },
     "execution_count": 31,
     "metadata": {},
     "output_type": "execute_result"
    }
   ],
   "source": [
    "not (2 == 3)"
   ]
  },
  {
   "cell_type": "markdown",
   "metadata": {},
   "source": [
    "#### >>> 回家練習 <<<\n",
    "將變數 student_id 隨意做 *加 減 乘 除* 運算，並將結果指派給 student_id_num，確認 student_id 與 student_id_num 相等。"
   ]
  },
  {
   "cell_type": "code",
   "execution_count": 33,
   "metadata": {},
   "outputs": [
    {
     "name": "stdout",
     "output_type": "stream",
     "text": [
      "True\n"
     ]
    }
   ],
   "source": [
    "#your code\n",
    "\n",
    "student_id_num = (((student_id + 24) % student_id) % 2) + student_id\n",
    "print(student_id_num == student_id)"
   ]
  },
  {
   "cell_type": "markdown",
   "metadata": {
    "slideshow": {
     "slide_type": "slide"
    }
   },
   "source": [
    "## 第三個要學會的是......了解資料的個性\n",
    ">整數 (int)<br>\n",
    ">浮點數 (float)<br>\n",
    ">布林值 (boolean)<br>\n",
    ">字串 (string)"
   ]
  },
  {
   "cell_type": "markdown",
   "metadata": {
    "slideshow": {
     "slide_type": "subslide"
    }
   },
   "source": [
    "### 整數\n",
    "1, 2, 3, 4...\n",
    "\n",
    " - Python 會自動判斷資料型態\n",
    " - 如何知道變數的資料型態 => type()"
   ]
  },
  {
   "cell_type": "code",
   "execution_count": 34,
   "metadata": {},
   "outputs": [
    {
     "data": {
      "text/plain": [
       "int"
      ]
     },
     "execution_count": 34,
     "metadata": {},
     "output_type": "execute_result"
    }
   ],
   "source": [
    "a = 1\n",
    "type(a)"
   ]
  },
  {
   "cell_type": "markdown",
   "metadata": {
    "slideshow": {
     "slide_type": "subslide"
    }
   },
   "source": [
    "### 浮點數\n",
    "1.2, 3.14, 9.87, 3.0...\n",
    "\n",
    " - 有小數點時，Python 會自動判斷為浮點數\n",
    " - 整數與浮點數一起計算會怎樣?\n",
    " - 如何轉型 => int()、float()"
   ]
  },
  {
   "cell_type": "code",
   "execution_count": 35,
   "metadata": {},
   "outputs": [
    {
     "data": {
      "text/plain": [
       "float"
      ]
     },
     "execution_count": 35,
     "metadata": {},
     "output_type": "execute_result"
    }
   ],
   "source": [
    "a = 1.0\n",
    "type(a)"
   ]
  },
  {
   "cell_type": "markdown",
   "metadata": {
    "slideshow": {
     "slide_type": "subslide"
    }
   },
   "source": [
    "### 布林值\n",
    "True, False\n",
    "\n",
    " - True 和 False 開頭皆為大寫\n",
    " - 常用於控制流程 (if、while)"
   ]
  },
  {
   "cell_type": "code",
   "execution_count": 36,
   "metadata": {},
   "outputs": [
    {
     "data": {
      "text/plain": [
       "bool"
      ]
     },
     "execution_count": 36,
     "metadata": {},
     "output_type": "execute_result"
    }
   ],
   "source": [
    "a = True\n",
    "type(a)"
   ]
  },
  {
   "cell_type": "markdown",
   "metadata": {
    "slideshow": {
     "slide_type": "subslide"
    }
   },
   "source": [
    "### 字串\n",
    "'Hello', \"tmu\"...\n",
    "\n",
    ">單引號和雙引號<br>\n",
    ">跳脫字元<br>\n",
    ">字串的加減乘除<br>\n",
    ">字串切片 (slice)<br>\n",
    ">字串格式化<br>\n",
    ">字串常用方法"
   ]
  },
  {
   "cell_type": "markdown",
   "metadata": {
    "slideshow": {
     "slide_type": "subslide"
    }
   },
   "source": [
    "#### 單引號和雙引號\n",
    " - 單引號和雙引號 Python 都會判斷為字串\n",
    " - 如何 print「Jimgo's apple pen」"
   ]
  },
  {
   "cell_type": "code",
   "execution_count": 37,
   "metadata": {},
   "outputs": [
    {
     "data": {
      "text/plain": [
       "str"
      ]
     },
     "execution_count": 37,
     "metadata": {},
     "output_type": "execute_result"
    }
   ],
   "source": [
    "a = '單引號'\n",
    "type(a)"
   ]
  },
  {
   "cell_type": "code",
   "execution_count": 38,
   "metadata": {},
   "outputs": [
    {
     "data": {
      "text/plain": [
       "str"
      ]
     },
     "execution_count": 38,
     "metadata": {},
     "output_type": "execute_result"
    }
   ],
   "source": [
    "a = \"雙引號\"\n",
    "type(a)"
   ]
  },
  {
   "cell_type": "markdown",
   "metadata": {},
   "source": [
    "```Some birds aren't meant to be caged. Their feathers are just too bright.```"
   ]
  },
  {
   "cell_type": "code",
   "execution_count": 39,
   "metadata": {},
   "outputs": [
    {
     "name": "stdout",
     "output_type": "stream",
     "text": [
      "Some birds aren't meant to be caged. Their feathers are just too bright.\n"
     ]
    }
   ],
   "source": [
    "print(\"Some birds aren't meant to be caged. Their feathers are just too bright.\")"
   ]
  },
  {
   "cell_type": "markdown",
   "metadata": {
    "slideshow": {
     "slide_type": "subslide"
    }
   },
   "source": [
    "#### 跳脫字元\n",
    " - 特殊用途的字元\n",
    " - http://python-ds.com/python-3-escape-sequences\n",
    ">\\n：換行<br>\n",
    ">\\t：tab"
   ]
  },
  {
   "cell_type": "code",
   "execution_count": 40,
   "metadata": {},
   "outputs": [
    {
     "name": "stdout",
     "output_type": "stream",
     "text": [
      "Some birds aren't meant to be caged. Their feathers are just too bright.\n"
     ]
    }
   ],
   "source": [
    "print('Some birds aren\\'t meant to be caged. Their feathers are just too bright.')"
   ]
  },
  {
   "cell_type": "code",
   "execution_count": 41,
   "metadata": {},
   "outputs": [
    {
     "name": "stdout",
     "output_type": "stream",
     "text": [
      "Some birds aren't meant to be caged. \n",
      "Their feathers are just too bright.\n"
     ]
    }
   ],
   "source": [
    "print('Some birds aren\\'t meant to be caged. \\nTheir feathers are just too bright.')"
   ]
  },
  {
   "cell_type": "code",
   "execution_count": 42,
   "metadata": {},
   "outputs": [
    {
     "name": "stdout",
     "output_type": "stream",
     "text": [
      "Some birds \n",
      "\taren't meant to be caged. \n",
      "\n",
      "Their feathers \n",
      "\tare just too bright.\n"
     ]
    }
   ],
   "source": [
    "print('Some birds \\n\\taren\\'t meant to be caged. \\n\\nTheir feathers \\n\\tare just too bright.')"
   ]
  },
  {
   "cell_type": "markdown",
   "metadata": {},
   "source": [
    "#### >>> 回家練習 <<<\n",
    "印出指定格式: 同一行你的姓名與學號，以“空格”分隔"
   ]
  },
  {
   "cell_type": "code",
   "execution_count": 43,
   "metadata": {},
   "outputs": [
    {
     "name": "stdout",
     "output_type": "stream",
     "text": [
      "李柏儀\t22413458\n"
     ]
    }
   ],
   "source": [
    "#your code\n",
    "print(\"李柏儀\\t22413458\")"
   ]
  },
  {
   "cell_type": "markdown",
   "metadata": {},
   "source": [
    "#### >>> 回家練習 <<<\n",
    "印出指定格式: 你的姓名，一行一個字"
   ]
  },
  {
   "cell_type": "code",
   "execution_count": 44,
   "metadata": {},
   "outputs": [
    {
     "name": "stdout",
     "output_type": "stream",
     "text": [
      "李\n",
      "柏\n",
      "儀\n"
     ]
    }
   ],
   "source": [
    "#your code\n",
    "print(\"李\\n柏\\n儀\")"
   ]
  },
  {
   "cell_type": "markdown",
   "metadata": {},
   "source": [
    "#### >>> 回家練習 <<<\n",
    "印出指定格式，如式：\n",
    "```\n",
    "姓名：name\n",
    "學號：studentid\n",
    "```\n",
    "name要換成你的姓名，studentid要換成你的完整學號"
   ]
  },
  {
   "cell_type": "code",
   "execution_count": 51,
   "metadata": {},
   "outputs": [
    {
     "name": "stdout",
     "output_type": "stream",
     "text": [
      "姓名：李柏儀\n",
      "學號：22413458\n"
     ]
    }
   ],
   "source": [
    "#your code\n",
    "\n",
    "print(\"姓名：\" + student_name)\n",
    "print(\"學號：{:d}\".format(student_id))"
   ]
  },
  {
   "cell_type": "markdown",
   "metadata": {
    "slideshow": {
     "slide_type": "subslide"
    }
   },
   "source": [
    "#### 字串 (String) 的加減乘除\n",
    " - 其實字串只能加跟乘...\n",
    ">Fear can hold you prisoner, hope can set you free.<br>"
   ]
  },
  {
   "cell_type": "code",
   "execution_count": 52,
   "metadata": {},
   "outputs": [
    {
     "name": "stdout",
     "output_type": "stream",
     "text": [
      "Fear can hold you prisonerhope can set you free.\n"
     ]
    }
   ],
   "source": [
    "str1 = 'Fear can hold you prisoner'\n",
    "str2 = 'hope can set you free.'\n",
    "print(str1 + str2)"
   ]
  },
  {
   "cell_type": "code",
   "execution_count": 53,
   "metadata": {},
   "outputs": [
    {
     "name": "stdout",
     "output_type": "stream",
     "text": [
      "Fear can hold you prisoner, hope can set you free.\n"
     ]
    }
   ],
   "source": [
    "str1 = 'Fear can hold you prisoner'\n",
    "str2 = 'hope can set you free.'\n",
    "print(str1 + \", \" + str2)"
   ]
  },
  {
   "cell_type": "code",
   "execution_count": 54,
   "metadata": {},
   "outputs": [
    {
     "name": "stdout",
     "output_type": "stream",
     "text": [
      "Fear can hold you prisoner hope can set you free.\n"
     ]
    }
   ],
   "source": [
    "str1 = 'Fear can hold you prisoner'\n",
    "str2 = 'hope can set you free.'\n",
    "print(str1, str2)"
   ]
  },
  {
   "cell_type": "markdown",
   "metadata": {
    "slideshow": {
     "slide_type": "fragment"
    }
   },
   "source": [
    ">如何呼喚自由3000次?"
   ]
  },
  {
   "cell_type": "code",
   "execution_count": 55,
   "metadata": {},
   "outputs": [
    {
     "name": "stdout",
     "output_type": "stream",
     "text": [
      "自由自由自由\n"
     ]
    }
   ],
   "source": [
    "str1 = \"自由\"\n",
    "print(str1 * 3)"
   ]
  },
  {
   "cell_type": "markdown",
   "metadata": {
    "slideshow": {
     "slide_type": "fragment"
    }
   },
   "source": [
    "#### >>> 回家練習 <<<\n",
    "以一行程式及先前設定的變數（student_name）印出你的姓名 300 次，間隔為空格。"
   ]
  },
  {
   "cell_type": "code",
   "execution_count": 57,
   "metadata": {},
   "outputs": [
    {
     "name": "stdout",
     "output_type": "stream",
     "text": [
      "李柏儀 李柏儀 李柏儀 李柏儀 李柏儀 李柏儀 李柏儀 李柏儀 李柏儀 李柏儀 李柏儀 李柏儀 李柏儀 李柏儀 李柏儀 李柏儀 李柏儀 李柏儀 李柏儀 李柏儀 李柏儀 李柏儀 李柏儀 李柏儀 李柏儀 李柏儀 李柏儀 李柏儀 李柏儀 李柏儀 李柏儀 李柏儀 李柏儀 李柏儀 李柏儀 李柏儀 李柏儀 李柏儀 李柏儀 李柏儀 李柏儀 李柏儀 李柏儀 李柏儀 李柏儀 李柏儀 李柏儀 李柏儀 李柏儀 李柏儀 李柏儀 李柏儀 李柏儀 李柏儀 李柏儀 李柏儀 李柏儀 李柏儀 李柏儀 李柏儀 李柏儀 李柏儀 李柏儀 李柏儀 李柏儀 李柏儀 李柏儀 李柏儀 李柏儀 李柏儀 李柏儀 李柏儀 李柏儀 李柏儀 李柏儀 李柏儀 李柏儀 李柏儀 李柏儀 李柏儀 李柏儀 李柏儀 李柏儀 李柏儀 李柏儀 李柏儀 李柏儀 李柏儀 李柏儀 李柏儀 李柏儀 李柏儀 李柏儀 李柏儀 李柏儀 李柏儀 李柏儀 李柏儀 李柏儀 李柏儀 李柏儀 李柏儀 李柏儀 李柏儀 李柏儀 李柏儀 李柏儀 李柏儀 李柏儀 李柏儀 李柏儀 李柏儀 李柏儀 李柏儀 李柏儀 李柏儀 李柏儀 李柏儀 李柏儀 李柏儀 李柏儀 李柏儀 李柏儀 李柏儀 李柏儀 李柏儀 李柏儀 李柏儀 李柏儀 李柏儀 李柏儀 李柏儀 李柏儀 李柏儀 李柏儀 李柏儀 李柏儀 李柏儀 李柏儀 李柏儀 李柏儀 李柏儀 李柏儀 李柏儀 李柏儀 李柏儀 李柏儀 李柏儀 李柏儀 李柏儀 李柏儀 李柏儀 李柏儀 李柏儀 李柏儀 李柏儀 李柏儀 李柏儀 李柏儀 李柏儀 李柏儀 李柏儀 李柏儀 李柏儀 李柏儀 李柏儀 李柏儀 李柏儀 李柏儀 李柏儀 李柏儀 李柏儀 李柏儀 李柏儀 李柏儀 李柏儀 李柏儀 李柏儀 李柏儀 李柏儀 李柏儀 李柏儀 李柏儀 李柏儀 李柏儀 李柏儀 李柏儀 李柏儀 李柏儀 李柏儀 李柏儀 李柏儀 李柏儀 李柏儀 李柏儀 李柏儀 李柏儀 李柏儀 李柏儀 李柏儀 李柏儀 李柏儀 李柏儀 李柏儀 李柏儀 李柏儀 李柏儀 李柏儀 李柏儀 李柏儀 李柏儀 李柏儀 李柏儀 李柏儀 李柏儀 李柏儀 李柏儀 李柏儀 李柏儀 李柏儀 李柏儀 李柏儀 李柏儀 李柏儀 李柏儀 李柏儀 李柏儀 李柏儀 李柏儀 李柏儀 李柏儀 李柏儀 李柏儀 李柏儀 李柏儀 李柏儀 李柏儀 李柏儀 李柏儀 李柏儀 李柏儀 李柏儀 李柏儀 李柏儀 李柏儀 李柏儀 李柏儀 李柏儀 李柏儀 李柏儀 李柏儀 李柏儀 李柏儀 李柏儀 李柏儀 李柏儀 李柏儀 李柏儀 李柏儀 李柏儀 李柏儀 李柏儀 李柏儀 李柏儀 李柏儀 李柏儀 李柏儀 李柏儀 李柏儀 李柏儀 李柏儀 李柏儀 李柏儀 李柏儀 李柏儀 李柏儀 李柏儀 李柏儀 李柏儀 李柏儀 李柏儀 李柏儀 李柏儀 李柏儀 李柏儀 李柏儀 李柏儀 李柏儀 李柏儀 李柏儀 李柏儀 李柏儀 李柏儀 李柏儀 李柏儀 李柏儀 李柏儀 李柏儀 李柏儀 李柏儀 \n"
     ]
    }
   ],
   "source": [
    "#your code\n",
    "print((student_name + ' ') * 300)"
   ]
  },
  {
   "cell_type": "markdown",
   "metadata": {
    "slideshow": {
     "slide_type": "subslide"
    }
   },
   "source": [
    "#### 字串切片 (slice)\n",
    " - 如何取出字串第二個字?"
   ]
  },
  {
   "cell_type": "code",
   "execution_count": 58,
   "metadata": {},
   "outputs": [
    {
     "data": {
      "text/plain": [
       "'望'"
      ]
     },
     "execution_count": 58,
     "metadata": {},
     "output_type": "execute_result"
    }
   ],
   "source": [
    "str1 = \"希望是美好的\"\n",
    "str1[1]"
   ]
  },
  {
   "cell_type": "markdown",
   "metadata": {
    "slideshow": {
     "slide_type": "fragment"
    }
   },
   "source": [
    " - 如何取出第四到第六個字\n",
    " - slice:'string'[start:end]\n",
    " - 包頭不包尾"
   ]
  },
  {
   "cell_type": "code",
   "execution_count": 59,
   "metadata": {},
   "outputs": [
    {
     "data": {
      "text/plain": [
       "'美好的'"
      ]
     },
     "execution_count": 59,
     "metadata": {},
     "output_type": "execute_result"
    }
   ],
   "source": [
    "str1 = \"希望是美好的\"\n",
    "str1[3:6]"
   ]
  },
  {
   "cell_type": "markdown",
   "metadata": {
    "slideshow": {
     "slide_type": "subslide"
    }
   },
   "source": [
    "#### 字串格式化\n",
    "'我希望太平洋的海水如同夢中的一樣%s：我希望……' % '顏色'\n",
    ">%s：字串<br>\n",
    ">%d：整數<br>\n",
    ">%f：浮點數"
   ]
  },
  {
   "cell_type": "code",
   "execution_count": 60,
   "metadata": {},
   "outputs": [
    {
     "name": "stdout",
     "output_type": "stream",
     "text": [
      "我希望太平洋的海水如同夢中的一樣藍：我希望……\n"
     ]
    }
   ],
   "source": [
    "print('我希望太平洋的海水如同夢中的一樣%s：我希望……' % '藍')"
   ]
  },
  {
   "cell_type": "code",
   "execution_count": 61,
   "metadata": {},
   "outputs": [
    {
     "name": "stdout",
     "output_type": "stream",
     "text": [
      "我希望太平洋的海水如同夢中的1樣藍：我希望……\n"
     ]
    }
   ],
   "source": [
    "print('我希望太平洋的海水如同夢中的%d樣%s：我希望……' % (1, '藍'))"
   ]
  },
  {
   "cell_type": "code",
   "execution_count": 62,
   "metadata": {},
   "outputs": [
    {
     "name": "stdout",
     "output_type": "stream",
     "text": [
      "我希望太平洋的海水如同夢中的1.000000樣藍：我希望……\n"
     ]
    }
   ],
   "source": [
    "print('我希望太平洋的海水如同夢中的%f樣%s：我希望……' % (1.0, '藍'))"
   ]
  },
  {
   "cell_type": "markdown",
   "metadata": {
    "slideshow": {
     "slide_type": "subslide"
    }
   },
   "source": [
    "#### 字串格式化\n",
    "```{0}年，Andy Dufresne 從肖申克監獄逃脫。人們只找到一件沾滿泥的囚衣、一塊肥皂、一把舊到不能再用的岩石錘。\\\n",
    "/n我曾認為用它鑿通監獄的牆得花上六百年。老 {1} 不到二十年就做到了。'.format(年份, '人名')```\n",
    "\n",
    " - index 從 0 開始標，字串中不用按大小排序\n",
    " - 可不填數字，Python 會自動依序填入\n",
    " - 不須先定義資料型態"
   ]
  },
  {
   "cell_type": "code",
   "execution_count": 63,
   "metadata": {
    "scrolled": true
   },
   "outputs": [
    {
     "name": "stdout",
     "output_type": "stream",
     "text": [
      "1966年，Andy Dufresne 從肖申克監獄逃脫。人們只找到一件沾滿泥的囚衣、一塊肥皂、一把舊到不能再用的岩石錘。\n",
      "我曾認為用它鑿通監獄的牆得花上六百年。老 Andy 不到二十年就做到了。\n"
     ]
    }
   ],
   "source": [
    "print('{0}年，Andy Dufresne 從肖申克監獄逃脫。人們只找到一件沾滿泥的囚衣、一塊肥皂、一把舊到不能再用的岩石錘。\\\n",
    "\\n我曾認為用它鑿通監獄的牆得花上六百年。老 {1} 不到二十年就做到了。'.format(1966, 'Andy'))"
   ]
  },
  {
   "cell_type": "code",
   "execution_count": 64,
   "metadata": {
    "scrolled": true
   },
   "outputs": [
    {
     "name": "stdout",
     "output_type": "stream",
     "text": [
      "1966年，Andy Dufresne 從肖申克監獄逃脫。人們只找到一件沾滿泥的囚衣、一塊肥皂、一把舊到不能再用的岩石錘。\n",
      "我曾認為用它鑿通監獄的牆得花上六百年。老 Andy 不到二十年就做到了。\n"
     ]
    }
   ],
   "source": [
    "print('{1}年，Andy Dufresne 從肖申克監獄逃脫。人們只找到一件沾滿泥的囚衣、一塊肥皂、一把舊到不能再用的岩石錘。\\\n",
    "\\n我曾認為用它鑿通監獄的牆得花上六百年。老 {0} 不到二十年就做到了。'.format('Andy', 1966))"
   ]
  },
  {
   "cell_type": "code",
   "execution_count": 65,
   "metadata": {
    "scrolled": true
   },
   "outputs": [
    {
     "name": "stdout",
     "output_type": "stream",
     "text": [
      "1966年，Andy Dufresne 從肖申克監獄逃脫。人們只找到一件沾滿泥的囚衣、一塊肥皂、一把舊到不能再用的岩石錘。\n",
      "我曾認為用它鑿通監獄的牆得花上六百年。老 Andy 不到二十年就做到了。\n"
     ]
    }
   ],
   "source": [
    "print('{}年，Andy Dufresne 從肖申克監獄逃脫。人們只找到一件沾滿泥的囚衣、一塊肥皂、一把舊到不能再用的岩石錘。\\\n",
    "\\n我曾認為用它鑿通監獄的牆得花上六百年。老 {} 不到二十年就做到了。'.format(1966, 'Andy'))"
   ]
  },
  {
   "cell_type": "markdown",
   "metadata": {
    "slideshow": {
     "slide_type": "subslide"
    }
   },
   "source": [
    "#### 字串格式化 f string\n",
    "print(`f`'x + y = {x + y}')"
   ]
  },
  {
   "cell_type": "code",
   "execution_count": 66,
   "metadata": {},
   "outputs": [
    {
     "name": "stdout",
     "output_type": "stream",
     "text": [
      "x + y = 3\n"
     ]
    }
   ],
   "source": [
    "x = 1\n",
    "y = 2\n",
    "print(f'x + y = {x + y}')"
   ]
  },
  {
   "cell_type": "code",
   "execution_count": 67,
   "metadata": {
    "scrolled": true
   },
   "outputs": [
    {
     "name": "stdout",
     "output_type": "stream",
     "text": [
      "1966年，Andy Dufresne 從肖申克監獄逃脫。人們只找到一件沾滿泥的囚衣、一塊肥皂、一把舊到不能再用的岩石錘。\n",
      "我曾認為用它鑿通監獄的牆得花上六百年。老 Andy 不到二十年就做到了。\n"
     ]
    }
   ],
   "source": [
    "name = \"Andy\"\n",
    "year = 1966\n",
    "print(f'{year}年，Andy Dufresne 從肖申克監獄逃脫。人們只找到一件沾滿泥的囚衣、一塊肥皂、一把舊到不能再用的岩石錘。\\\n",
    "\\n我曾認為用它鑿通監獄的牆得花上六百年。老 {name} 不到二十年就做到了。')"
   ]
  },
  {
   "cell_type": "markdown",
   "metadata": {
    "slideshow": {
     "slide_type": "subslide"
    }
   },
   "source": [
    "#### 字串常用方法\n",
    ">字串長度是多少<br>\n",
    ">我想把逗號取代成空格<br>\n",
    ">我想把字串斷句<br>\n",
    ">我想把英文變小寫<br>\n",
    ">我想知道字串中有沒有你的名字<br>\n",
    ">如何把數字轉字串"
   ]
  },
  {
   "cell_type": "markdown",
   "metadata": {
    "slideshow": {
     "slide_type": "subslide"
    }
   },
   "source": [
    "#### 字串常用方法\n",
    "字串長度是多少 => `len(str)`"
   ]
  },
  {
   "cell_type": "code",
   "execution_count": 68,
   "metadata": {},
   "outputs": [
    {
     "data": {
      "text/plain": [
       "7"
      ]
     },
     "execution_count": 68,
     "metadata": {},
     "output_type": "execute_result"
    }
   ],
   "source": [
    "str1 = '字串長度是多少'\n",
    "len(str1)"
   ]
  },
  {
   "cell_type": "markdown",
   "metadata": {
    "slideshow": {
     "slide_type": "subslide"
    }
   },
   "source": [
    "#### 字串常用方法\n",
    "我想把逗號取代成空格 => `str.replace(',', ' ')`\n",
    "\n",
    " - 空格 vs 空字串\n",
    " - 注意回傳值"
   ]
  },
  {
   "cell_type": "code",
   "execution_count": 69,
   "metadata": {},
   "outputs": [
    {
     "data": {
      "text/plain": [
       "'我想把逗號 取代成空格'"
      ]
     },
     "execution_count": 69,
     "metadata": {},
     "output_type": "execute_result"
    }
   ],
   "source": [
    "str1 = '我想把逗號,取代成空格'\n",
    "str1.replace(',', ' ')"
   ]
  },
  {
   "cell_type": "code",
   "execution_count": 70,
   "metadata": {},
   "outputs": [
    {
     "data": {
      "text/plain": [
       "'我想把逗號,取代成空格'"
      ]
     },
     "execution_count": 70,
     "metadata": {},
     "output_type": "execute_result"
    }
   ],
   "source": [
    "str1 = '我想把逗號,取代成空格'\n",
    "str1.replace(',', ' ')\n",
    "str1"
   ]
  },
  {
   "cell_type": "code",
   "execution_count": 71,
   "metadata": {},
   "outputs": [
    {
     "data": {
      "text/plain": [
       "'我想把逗號 取代成空格'"
      ]
     },
     "execution_count": 71,
     "metadata": {},
     "output_type": "execute_result"
    }
   ],
   "source": [
    "str1 = '我想把逗號,取代成空格'\n",
    "str1 = str1.replace(',', ' ')\n",
    "str1"
   ]
  },
  {
   "cell_type": "markdown",
   "metadata": {
    "slideshow": {
     "slide_type": "subslide"
    }
   },
   "source": [
    "#### 字串常用方法\n",
    "我想把字串斷句 => `str.split('.')`\n",
    "\n",
    " - 如不指定用什麼切割，會自動以空格切割"
   ]
  },
  {
   "cell_type": "code",
   "execution_count": 72,
   "metadata": {},
   "outputs": [
    {
     "data": {
      "text/plain": [
       "['我想把', '字串斷句', '']"
      ]
     },
     "execution_count": 72,
     "metadata": {},
     "output_type": "execute_result"
    }
   ],
   "source": [
    "str1 = '我想把.字串斷句.'\n",
    "str1.split('.')"
   ]
  },
  {
   "cell_type": "code",
   "execution_count": 73,
   "metadata": {},
   "outputs": [
    {
     "data": {
      "text/plain": [
       "['我想把', '字串斷句', '']"
      ]
     },
     "execution_count": 73,
     "metadata": {},
     "output_type": "execute_result"
    }
   ],
   "source": [
    "str1 = '我想把\\n字串斷句\\n'\n",
    "str1.split('\\n')"
   ]
  },
  {
   "cell_type": "code",
   "execution_count": 74,
   "metadata": {},
   "outputs": [
    {
     "data": {
      "text/plain": [
       "['我想把', '字串斷句']"
      ]
     },
     "execution_count": 74,
     "metadata": {},
     "output_type": "execute_result"
    }
   ],
   "source": [
    "str1 = '我想把 字串斷句 '\n",
    "str1.split()"
   ]
  },
  {
   "cell_type": "markdown",
   "metadata": {
    "slideshow": {
     "slide_type": "subslide"
    }
   },
   "source": [
    "#### 字串常用方法\n",
    "我想把英文變小寫 => `str.lower()`"
   ]
  },
  {
   "cell_type": "code",
   "execution_count": 75,
   "metadata": {},
   "outputs": [
    {
     "data": {
      "text/plain": [
       "'lower case'"
      ]
     },
     "execution_count": 75,
     "metadata": {},
     "output_type": "execute_result"
    }
   ],
   "source": [
    "str1 = 'LOWER CASE'\n",
    "str1 = str1.lower()\n",
    "str1"
   ]
  },
  {
   "cell_type": "markdown",
   "metadata": {
    "slideshow": {
     "slide_type": "subslide"
    }
   },
   "source": [
    "#### 字串常用方法\n",
    "我想知道字串中有沒有你的名字 => `str1 in str`\n",
    "\n",
    " - `in` and `not in`"
   ]
  },
  {
   "cell_type": "code",
   "execution_count": 76,
   "metadata": {},
   "outputs": [],
   "source": [
    "str1 = '你的名字'\n",
    "str2 = '名字'"
   ]
  },
  {
   "cell_type": "code",
   "execution_count": 77,
   "metadata": {},
   "outputs": [
    {
     "data": {
      "text/plain": [
       "True"
      ]
     },
     "execution_count": 77,
     "metadata": {},
     "output_type": "execute_result"
    }
   ],
   "source": [
    "str2 in str1"
   ]
  },
  {
   "cell_type": "code",
   "execution_count": 78,
   "metadata": {},
   "outputs": [
    {
     "data": {
      "text/plain": [
       "False"
      ]
     },
     "execution_count": 78,
     "metadata": {},
     "output_type": "execute_result"
    }
   ],
   "source": [
    "str2 not in str1"
   ]
  },
  {
   "cell_type": "markdown",
   "metadata": {
    "slideshow": {
     "slide_type": "subslide"
    }
   },
   "source": [
    "#### 字串常用方法\n",
    "如何把數字轉字串 => `str(number)`\n",
    "\n",
    " - 字串和整數可否相加? print(str + number)"
   ]
  },
  {
   "cell_type": "code",
   "execution_count": 79,
   "metadata": {},
   "outputs": [
    {
     "ename": "TypeError",
     "evalue": "can only concatenate str (not \"int\") to str",
     "output_type": "error",
     "traceback": [
      "\u001b[0;31m---------------------------------------------------------------------------\u001b[0m",
      "\u001b[0;31mTypeError\u001b[0m                                 Traceback (most recent call last)",
      "\u001b[0;32m<ipython-input-79-403780663095>\u001b[0m in \u001b[0;36m<module>\u001b[0;34m\u001b[0m\n\u001b[1;32m      1\u001b[0m \u001b[0mstr1\u001b[0m \u001b[0;34m=\u001b[0m \u001b[0;34m'1'\u001b[0m\u001b[0;34m\u001b[0m\u001b[0;34m\u001b[0m\u001b[0m\n\u001b[1;32m      2\u001b[0m \u001b[0mnumber\u001b[0m \u001b[0;34m=\u001b[0m \u001b[0;36m1\u001b[0m\u001b[0;34m\u001b[0m\u001b[0;34m\u001b[0m\u001b[0m\n\u001b[0;32m----> 3\u001b[0;31m \u001b[0mprint\u001b[0m\u001b[0;34m(\u001b[0m\u001b[0mstr1\u001b[0m\u001b[0;34m+\u001b[0m\u001b[0mnumber\u001b[0m\u001b[0;34m)\u001b[0m\u001b[0;34m\u001b[0m\u001b[0;34m\u001b[0m\u001b[0m\n\u001b[0m",
      "\u001b[0;31mTypeError\u001b[0m: can only concatenate str (not \"int\") to str"
     ]
    }
   ],
   "source": [
    "str1 = '1'\n",
    "number = 1\n",
    "print(str1+number)"
   ]
  },
  {
   "cell_type": "code",
   "execution_count": 80,
   "metadata": {},
   "outputs": [
    {
     "name": "stdout",
     "output_type": "stream",
     "text": [
      "11\n"
     ]
    }
   ],
   "source": [
    "str1 = '1'\n",
    "number = 1\n",
    "print(str1+str(number))"
   ]
  },
  {
   "cell_type": "markdown",
   "metadata": {
    "slideshow": {
     "slide_type": "subslide"
    }
   },
   "source": [
    "### 參考資料\n",
    " - https://www.w3schools.com/python/python_strings.asp\n",
    " - https://www.runoob.com/python/python-strings.html"
   ]
  },
  {
   "cell_type": "markdown",
   "metadata": {},
   "source": [
    "#### >>> 回家練習 <<< \n",
    "請用這個句子完成以下練習：<br>\n",
    "```時至今日我也不明白那兩個義大利女人在唱些什麼。其實我也不想知道。有些事情還是不說的好。我情願相信她們唱的是語言無法表達的美好東西，讓你為之心碎。我得告訴你這些聲音衝上了雲霄，超越了這個灰色地帶中任何人的想像。就好像某隻美麗的鳥兒扇動著翅膀飛進了這個乏味的小籠子，讓那些高牆隨之瓦解，有那麼極短的一刻，肖申克中所有人似乎重獲自由。原文：I have no idea to this day what those two Italian ladies were singing about. Truth is, I don't wanna know. Some things are best left unsaid. I'd like to think they were singing about something so beautiful it can't be expressed in words, and it makes your heart ache because of it. I tell you those voices soared, higher and farther than anybody in a grey place dares to dream. It was like some beautiful bird flapped into our drab little cage and made these walls dissolve away, and for the briefest of moments, every last man in Shawshank felt free.```\n"
   ]
  },
  {
   "cell_type": "markdown",
   "metadata": {},
   "source": [
    "本句共有多少個中文字元（含中文標點符號）？"
   ]
  },
  {
   "cell_type": "code",
   "execution_count": 89,
   "metadata": {},
   "outputs": [
    {
     "name": "stdout",
     "output_type": "stream",
     "text": [
      "164\n"
     ]
    }
   ],
   "source": [
    "#your code\n",
    "str1 = '時至今日我也不明白那兩個義大利女人在唱些什麼。其實我也不想知道。有些事情還是不說的好。我情願相信她們唱的是語言無法表達的美好東西，讓你為之心碎。我得告訴你這些聲音衝上了雲霄，超越了這個灰色地帶中任何人的想像。就好像某隻美麗的鳥兒扇動著翅膀飛進了這個乏味的小籠子，讓那些高牆隨之瓦解，有那麼極短的一刻，肖申克中所有人似乎重獲自由。'\n",
    "print(len(str1))"
   ]
  },
  {
   "cell_type": "markdown",
   "metadata": {},
   "source": [
    "#### >>> 回家練習 <<< \n",
    "本句共有多少個英文字（含英文標點符號）？ \n",
    "例如：It 是一個英文字，Shawshank 是一個英文字。不是算有多少字元 (characters) 喔。"
   ]
  },
  {
   "cell_type": "code",
   "execution_count": 93,
   "metadata": {},
   "outputs": [
    {
     "name": "stdout",
     "output_type": "stream",
     "text": [
      "102\n"
     ]
    }
   ],
   "source": [
    "#your code\n",
    "\n",
    "str2 = \"I have no idea to this day what those two Italian ladies were singing about. Truth is, I don't wanna know. Some things are best left unsaid. I'd like to think they were singing about something so beautiful it can't be expressed in words, and it makes your heart ache because of it. I tell you those voices soared, higher and farther than anybody in a grey place dares to dream. It was like some beautiful bird flapped into our drab little cage and made these walls dissolve away, and for the briefest of moments, every last man in Shawshank felt free.\"\n",
    "print(len(str2.split()))"
   ]
  },
  {
   "cell_type": "markdown",
   "metadata": {},
   "source": [
    "#### >>> 回家練習 <<< \n",
    "\"時\"是第一個字。<br>\n",
    "以一行程式印出句子的第47, 48, 102, 103, 110, 111, 162, 163個字，印成一行。"
   ]
  },
  {
   "cell_type": "code",
   "execution_count": 91,
   "metadata": {},
   "outputs": [
    {
     "name": "stdout",
     "output_type": "stream",
     "text": [
      "相信想像美麗自由\n"
     ]
    }
   ],
   "source": [
    "#your code\n",
    "print(str1[46] + str1[47] + str1[101] + str1[102] + str1[109] + str1[110] + str1[161] + str1[162])"
   ]
  },
  {
   "cell_type": "markdown",
   "metadata": {},
   "source": [
    "#### >>> 回家練習 <<< \n",
    "將英文字元全轉為小寫，印出。"
   ]
  },
  {
   "cell_type": "code",
   "execution_count": 94,
   "metadata": {},
   "outputs": [
    {
     "name": "stdout",
     "output_type": "stream",
     "text": [
      "i have no idea to this day what those two italian ladies were singing about. truth is, i don't wanna know. some things are best left unsaid. i'd like to think they were singing about something so beautiful it can't be expressed in words, and it makes your heart ache because of it. i tell you those voices soared, higher and farther than anybody in a grey place dares to dream. it was like some beautiful bird flapped into our drab little cage and made these walls dissolve away, and for the briefest of moments, every last man in shawshank felt free.\n"
     ]
    }
   ],
   "source": [
    "#your code\n",
    "print(str2.lower())"
   ]
  },
  {
   "cell_type": "markdown",
   "metadata": {},
   "source": [
    "#### >>> 回家練習 <<< \n",
    "將句子以 \"。\" 做斷句。"
   ]
  },
  {
   "cell_type": "code",
   "execution_count": 95,
   "metadata": {},
   "outputs": [
    {
     "name": "stdout",
     "output_type": "stream",
     "text": [
      "['時至今日我也不明白那兩個義大利女人在唱些什麼', '其實我也不想知道', '有些事情還是不說的好', '我情願相信她們唱的是語言無法表達的美好東西，讓你為之心碎', '我得告訴你這些聲音衝上了雲霄，超越了這個灰色地帶中任何人的想像', '就好像某隻美麗的鳥兒扇動著翅膀飛進了這個乏味的小籠子，讓那些高牆隨之瓦解，有那麼極短的一刻，肖申克中所有人似乎重獲自由', '']\n"
     ]
    }
   ],
   "source": [
    "#your code\n",
    "print(str1.split('。'))"
   ]
  },
  {
   "cell_type": "markdown",
   "metadata": {
    "slideshow": {
     "slide_type": "slide"
    }
   },
   "source": [
    "## 第四個要學會的是......成為控制哥/姐\n",
    ">if...elif...else (condition)<br>\n",
    ">for...in... (for loop)<br>\n",
    ">while... (while loop)"
   ]
  },
  {
   "cell_type": "markdown",
   "metadata": {
    "slideshow": {
     "slide_type": "subslide"
    }
   },
   "source": [
    "### if...elif...else\n",
    "符合條件要做什麼事\n",
    ">if condition1:<br>\n",
    ">&ensp;&ensp;statement1<br>\n",
    ">elif condition2:<br>\n",
    ">&ensp;&ensp;statement2<br>\n",
    ">else:<br>\n",
    ">&ensp;&ensp;statement3\n",
    "    \n",
    " - 注意條件後面要有 `:`，而且換行後要有 `tab`\n",
    " - `elif` 和 `else` 為 optional，通常 `else` 有助於 debug"
   ]
  },
  {
   "cell_type": "markdown",
   "metadata": {
    "slideshow": {
     "slide_type": "subslide"
    }
   },
   "source": [
    "最喜歡的漫畫?"
   ]
  },
  {
   "cell_type": "code",
   "execution_count": 96,
   "metadata": {},
   "outputs": [
    {
     "name": "stdout",
     "output_type": "stream",
     "text": [
      "中生代宅宅\n"
     ]
    }
   ],
   "source": [
    "comic = '海賊王'\n",
    "if comic == '七龍珠':\n",
    "    print('上古宅宅')\n",
    "elif comic == '海賊王':\n",
    "    print('中生代宅宅')\n",
    "else:\n",
    "    print('我不是宅宅')"
   ]
  },
  {
   "cell_type": "markdown",
   "metadata": {
    "slideshow": {
     "slide_type": "subslide"
    }
   },
   "source": [
    "### for...in...\n",
    "依序取出物品\n",
    ">for item in list:<br>\n",
    ">&ensp;&ensp;statement\n",
    "\n",
    " - 巢狀迴圈通常不建議超過 3 層"
   ]
  },
  {
   "cell_type": "code",
   "execution_count": 97,
   "metadata": {
    "slideshow": {
     "slide_type": "subslide"
    }
   },
   "outputs": [
    {
     "name": "stdout",
     "output_type": "stream",
     "text": [
      "記住，Red。\n",
      "（´Д`）（´Д`）\n",
      "希望是美好的，也許是人間至善，而美好的事物永不消逝。\n",
      "（´Д`）（´Д`）\n",
      "我希望這封信能找到你，而且找到你的時候，你一切安好。\n",
      "（´Д`）（´Д`）\n",
      "你的朋友，Andy。\n",
      "（´Д`）（´Д`）\n"
     ]
    }
   ],
   "source": [
    "doc = ['記住，Red。',\n",
    "       '希望是美好的，也許是人間至善，而美好的事物永不消逝。',\n",
    "       '我希望這封信能找到你，而且找到你的時候，你一切安好。',\n",
    "       '你的朋友，Andy。']\n",
    "face_text = \"（´Д`）\"\n",
    "\n",
    "for sentence in doc:\n",
    "    print(sentence)\n",
    "    print(face_text *2)"
   ]
  },
  {
   "cell_type": "code",
   "execution_count": 98,
   "metadata": {},
   "outputs": [
    {
     "name": "stdout",
     "output_type": "stream",
     "text": [
      "記住\n",
      "希望\n",
      "我希\n",
      "你的\n"
     ]
    }
   ],
   "source": [
    "for sentence in doc:\n",
    "    print(sentence[0:2])"
   ]
  },
  {
   "cell_type": "markdown",
   "metadata": {
    "slideshow": {
     "slide_type": "subslide"
    }
   },
   "source": [
    "### for...in...\n",
    "固定次數內不斷做一些事\n",
    ">for index in range(start, end):<br>\n",
    ">&ensp;&ensp;statement<br>\n",
    " - range()"
   ]
  },
  {
   "cell_type": "code",
   "execution_count": 99,
   "metadata": {},
   "outputs": [
    {
     "name": "stdout",
     "output_type": "stream",
     "text": [
      "記\n",
      "希\n",
      "我\n",
      "你\n"
     ]
    }
   ],
   "source": [
    "doc = ['記住，Red。',\n",
    "       '希望是美好的，也許是人間至善，而美好的事物永不消逝。',\n",
    "       '我希望這封信能找到你，而且找到你的時候，你一切安好。',\n",
    "       '你的朋友，Andy。']\n",
    "\n",
    "for index in range(len(doc)):\n",
    "    print(doc[index][0])"
   ]
  },
  {
   "cell_type": "markdown",
   "metadata": {
    "slideshow": {
     "slide_type": "subslide"
    }
   },
   "source": [
    "印出 2, 4, 6, 8, 10"
   ]
  },
  {
   "cell_type": "code",
   "execution_count": 100,
   "metadata": {},
   "outputs": [
    {
     "name": "stdout",
     "output_type": "stream",
     "text": [
      "0\n",
      "2\n",
      "4\n",
      "6\n",
      "8\n",
      "10\n"
     ]
    }
   ],
   "source": [
    "for index in range(11):\n",
    "    if index % 2 == 0:\n",
    "        print(index)"
   ]
  },
  {
   "cell_type": "code",
   "execution_count": 101,
   "metadata": {},
   "outputs": [
    {
     "name": "stdout",
     "output_type": "stream",
     "text": [
      "2\n",
      "4\n",
      "6\n",
      "8\n",
      "10\n"
     ]
    }
   ],
   "source": [
    "for index in range(11):\n",
    "    if index % 2 == 0 and index > 0:\n",
    "        print(index)"
   ]
  },
  {
   "cell_type": "code",
   "execution_count": 102,
   "metadata": {},
   "outputs": [
    {
     "name": "stdout",
     "output_type": "stream",
     "text": [
      "2\n",
      "4\n",
      "6\n",
      "8\n",
      "10\n"
     ]
    }
   ],
   "source": [
    "for index in range(2,11):\n",
    "    if index % 2 == 0:\n",
    "        print(index)"
   ]
  },
  {
   "cell_type": "code",
   "execution_count": 103,
   "metadata": {},
   "outputs": [
    {
     "name": "stdout",
     "output_type": "stream",
     "text": [
      "2\n",
      "4\n",
      "6\n",
      "8\n",
      "10\n"
     ]
    }
   ],
   "source": [
    "for index in range(2,11,2):\n",
    "    print(index)"
   ]
  },
  {
   "cell_type": "markdown",
   "metadata": {
    "slideshow": {
     "slide_type": "subslide"
    }
   },
   "source": [
    "### while...\n",
    "未知次數不斷做一些事\n",
    ">while condition:<br>\n",
    ">&ensp;&ensp;statement<br>\n",
    "\n",
    " - 小心變成無窮迴圈\n",
    " - 巢狀迴圈通常不建議超過 3 層"
   ]
  },
  {
   "cell_type": "markdown",
   "metadata": {
    "slideshow": {
     "slide_type": "subslide"
    }
   },
   "source": [
    "印出 2, 4, 6, 8, 10"
   ]
  },
  {
   "cell_type": "code",
   "execution_count": 104,
   "metadata": {},
   "outputs": [
    {
     "name": "stdout",
     "output_type": "stream",
     "text": [
      "2\n",
      "4\n",
      "6\n",
      "8\n",
      "10\n"
     ]
    }
   ],
   "source": [
    "index = 2\n",
    "while index <= 10:\n",
    "    if index % 2 == 0:\n",
    "        print(index)\n",
    "    index += 2"
   ]
  },
  {
   "cell_type": "markdown",
   "metadata": {
    "slideshow": {
     "slide_type": "subslide"
    }
   },
   "source": [
    "### break\n",
    "\n",
    "休息一下吧! => 跳過當下迴圈"
   ]
  },
  {
   "cell_type": "code",
   "execution_count": 105,
   "metadata": {},
   "outputs": [
    {
     "name": "stdout",
     "output_type": "stream",
     "text": [
      "記\n",
      "希\n"
     ]
    }
   ],
   "source": [
    "doc = ['記住，Red。',\n",
    "       '希望是美好的，也許是人間至善，而美好的事物永不消逝。',\n",
    "       '我希望這封信能找到你，而且找到你的時候，你一切安好。',\n",
    "       '你的朋友，Andy。']\n",
    "\n",
    "\n",
    "for index in range(len(doc)):\n",
    "    if index == 2:\n",
    "        break\n",
    "    print(doc[index][0])"
   ]
  },
  {
   "cell_type": "markdown",
   "metadata": {
    "slideshow": {
     "slide_type": "subslide"
    }
   },
   "source": [
    "### continue\n",
    "我們繼續吧! => 跳過當下的 item"
   ]
  },
  {
   "cell_type": "code",
   "execution_count": 106,
   "metadata": {},
   "outputs": [
    {
     "name": "stdout",
     "output_type": "stream",
     "text": [
      "記\n",
      "希\n",
      "你\n"
     ]
    }
   ],
   "source": [
    "doc = ['記住，Red。',\n",
    "       '希望是美好的，也許是人間至善，而美好的事物永不消逝。',\n",
    "       '我希望這封信能找到你，而且找到你的時候，你一切安好。',\n",
    "       '你的朋友，Andy。']\n",
    "\n",
    "for index in range(len(doc)):\n",
    "    if index == 2:\n",
    "        continue\n",
    "    print(doc[index][0])"
   ]
  },
  {
   "cell_type": "markdown",
   "metadata": {},
   "source": [
    "#### >>> 回家練習 <<< \n",
    "請用這個句子完成以下練習：<br>\n",
    "```時至今日我也不明白那兩個義大利女人在唱些什麼。其實我也不想知道。有些事情還是不說的好。我情願相信她們唱的是語言無法表達的美好東西，讓你為之心碎。我得告訴你這些聲音衝上了雲霄，超越了這個灰色地帶中任何人的想像。就好像某隻美麗的鳥兒扇動著翅膀飛進了這個乏味的小籠子，讓那些高牆隨之瓦解，有那麼極短的一刻，肖申克中所有人似乎重獲自由。原文：I have no idea to this day what those two Italian ladies were singing about. Truth is, I don't wanna know. Some things are best left unsaid. I'd like to think they were singing about something so beautiful it can't be expressed in words, and it makes your heart ache because of it. I tell you those voices soared, higher and farther than anybody in a grey place dares to dream. It was like some beautiful bird flapped into our drab little cage and made these walls dissolve away, and for the briefest of moments, every last man in Shawshank felt free.```\n",
    "\n",
    "以 \"。\" 斷句，取出每個子句的第3個字元組成一個文字，印出。"
   ]
  },
  {
   "cell_type": "code",
   "execution_count": 113,
   "metadata": {},
   "outputs": [
    {
     "name": "stdout",
     "output_type": "stream",
     "text": [
      "['時至今日我也不明白那兩個義大利女人在唱些什麼', '其實我也不想知道', '有些事情還是不說的好', '我情願相信她們唱的是語言無法表達的美好東西，讓你為之心碎', '我得告訴你這些聲音衝上了雲霄，超越了這個灰色地帶中任何人的想像', '就好像某隻美麗的鳥兒扇動著翅膀飛進了這個乏味的小籠子，讓那些高牆隨之瓦解，有那麼極短的一刻，肖申克中所有人似乎重獲自由', '']\n",
      "今\n",
      "我\n",
      "事\n",
      "願\n",
      "告\n",
      "像\n"
     ]
    }
   ],
   "source": [
    "#your code\n",
    "str1 = \"時至今日我也不明白那兩個義大利女人在唱些什麼。其實我也不想知道。有些事情還是不說的好。我情願相信她們唱的是語言無法表達的美好東西，讓你為之心碎。我得告訴你這些聲音衝上了雲霄，超越了這個灰色地帶中任何人的想像。就好像某隻美麗的鳥兒扇動著翅膀飛進了這個乏味的小籠子，讓那些高牆隨之瓦解，有那麼極短的一刻，肖申克中所有人似乎重獲自由。\"\n",
    "\n",
    "str1_split = str1.split(\"。\")\n",
    "\n",
    "print(str1_split)\n",
    "for num in range(len(str1_split)-1):\n",
    "    print(str1_split[num][2])"
   ]
  },
  {
   "cell_type": "markdown",
   "metadata": {
    "slideshow": {
     "slide_type": "slide"
    }
   },
   "source": [
    "## >>> 回家練習 <<<\n",
    ">如何計算所有數字的加總"
   ]
  },
  {
   "cell_type": "markdown",
   "metadata": {
    "slideshow": {
     "slide_type": "fragment"
    }
   },
   "source": [
    "思考：想像寫程式就是在創造一個機器人，假如要我想要機器人做動作，我會經過什麼流程?"
   ]
  },
  {
   "cell_type": "markdown",
   "metadata": {
    "slideshow": {
     "slide_type": "subslide"
    }
   },
   "source": [
    "1. 設定變數：多少個變數? 什麼型態的變數?\n",
    "- 設定6個變數，x1, x2, x3, x4, x5, total"
   ]
  },
  {
   "cell_type": "code",
   "execution_count": 115,
   "metadata": {},
   "outputs": [],
   "source": [
    "#your code\n",
    "\n",
    "x1 = 12\n",
    "x2 = 23\n",
    "x3 = 34\n",
    "x4 = 45\n",
    "x5 = 56\n",
    "total = x1 + x2 + x3 + x4 + x5"
   ]
  },
  {
   "cell_type": "markdown",
   "metadata": {
    "slideshow": {
     "slide_type": "subslide"
    }
   },
   "source": [
    "2. 讀入資料\n",
    "- 運用 input() 輸入 x1, x2, x3, x4, x5 的資料"
   ]
  },
  {
   "cell_type": "code",
   "execution_count": 117,
   "metadata": {},
   "outputs": [
    {
     "name": "stdout",
     "output_type": "stream",
     "text": [
      "x1:12\n",
      "x2:23\n",
      "x3:34\n",
      "x4:45\n",
      "x5:56\n"
     ]
    }
   ],
   "source": [
    "#your code\n",
    "\n",
    "x1 = int(input(\"x1:\"))\n",
    "x2 = int(input(\"x2:\"))\n",
    "x3 = int(input(\"x3:\"))\n",
    "x4 = int(input(\"x4:\"))\n",
    "x5 = int(input(\"x5:\"))"
   ]
  },
  {
   "cell_type": "markdown",
   "metadata": {
    "slideshow": {
     "slide_type": "subslide"
    }
   },
   "source": [
    "3. 運算\n",
    "- 計算 x1, x2, x3, x4, x5 的總和，並指派給 total 變數"
   ]
  },
  {
   "cell_type": "code",
   "execution_count": 118,
   "metadata": {},
   "outputs": [],
   "source": [
    "#your code\n",
    "\n",
    "total = x1 + x2 + x3 + x4 + x5"
   ]
  },
  {
   "cell_type": "markdown",
   "metadata": {
    "slideshow": {
     "slide_type": "subslide"
    }
   },
   "source": [
    "4. 輸出結果\n",
    "\n",
    "```加總為：```"
   ]
  },
  {
   "cell_type": "code",
   "execution_count": 122,
   "metadata": {},
   "outputs": [
    {
     "name": "stdout",
     "output_type": "stream",
     "text": [
      "加總為：170\n"
     ]
    }
   ],
   "source": [
    "#your code\n",
    "\n",
    "print(\"加總為：\" + str(total))"
   ]
  },
  {
   "cell_type": "markdown",
   "metadata": {
    "slideshow": {
     "slide_type": "subslide"
    }
   },
   "source": [
    "5. 思考有沒有更好的方式?\n",
    "- 以 for loop 改寫，輸入 5 個變數，輸出總和。"
   ]
  },
  {
   "cell_type": "code",
   "execution_count": 131,
   "metadata": {},
   "outputs": [
    {
     "name": "stdout",
     "output_type": "stream",
     "text": [
      "12\n",
      "23\n",
      "34\n",
      "45\n",
      "56\n",
      "170\n"
     ]
    }
   ],
   "source": [
    "#your code\n",
    "num = [1,2,3,4,5]\n",
    "total = 0\n",
    "for n in range(len(num)):\n",
    "    num[n] = int(input())\n",
    "    total += num[n]\n",
    "    \n",
    "print(total)"
   ]
  },
  {
   "cell_type": "markdown",
   "metadata": {
    "slideshow": {
     "slide_type": "subslide"
    }
   },
   "source": [
    "6. 思考有沒有更好的方式?\n",
    "- 以 while loop 改寫，輸入 5 個變數，輸出總和。"
   ]
  },
  {
   "cell_type": "code",
   "execution_count": 133,
   "metadata": {},
   "outputs": [
    {
     "name": "stdout",
     "output_type": "stream",
     "text": [
      "12\n",
      "23\n",
      "34\n",
      "45\n",
      "56\n",
      "170\n"
     ]
    }
   ],
   "source": [
    "#your code\n",
    "i=0\n",
    "num = [1,2,3,4,5]\n",
    "total = 0\n",
    "while i<5:\n",
    "    num[i] = int(input())\n",
    "    total += num[i]\n",
    "    i += 1\n",
    "\n",
    "print(total)"
   ]
  }
 ],
 "metadata": {
  "kernelspec": {
   "display_name": "Python 3",
   "language": "python",
   "name": "python3"
  },
  "language_info": {
   "codemirror_mode": {
    "name": "ipython",
    "version": 3
   },
   "file_extension": ".py",
   "mimetype": "text/x-python",
   "name": "python",
   "nbconvert_exporter": "python",
   "pygments_lexer": "ipython3",
   "version": "3.8.3"
  }
 },
 "nbformat": 4,
 "nbformat_minor": 4
}
